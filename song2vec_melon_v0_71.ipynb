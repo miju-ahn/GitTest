{
  "nbformat": 4,
  "nbformat_minor": 0,
  "metadata": {
    "colab": {
      "name": "song2vec_melon_v0.71.ipynb",
      "provenance": [],
      "collapsed_sections": [],
      "mount_file_id": "19aX4ahFuF2Iac8mKSjf5bGdE-zJLKdCh",
      "authorship_tag": "ABX9TyNPTMMgZ7jtTnPKItZ13b6E",
      "include_colab_link": true
    },
    "kernelspec": {
      "name": "python3",
      "display_name": "Python 3"
    }
  },
  "cells": [
    {
      "cell_type": "markdown",
      "metadata": {
        "id": "view-in-github",
        "colab_type": "text"
      },
      "source": [
        "<a href=\"https://colab.research.google.com/github/miju-ahn/GitTest/blob/master/song2vec_melon_v0_71.ipynb\" target=\"_parent\"><img src=\"https://colab.research.google.com/assets/colab-badge.svg\" alt=\"Open In Colab\"/></a>"
      ]
    },
    {
      "cell_type": "code",
      "metadata": {
        "id": "iip-YYu0axJm",
        "colab_type": "code",
        "colab": {}
      },
      "source": [
        "import os\n",
        "import sys\n",
        "import warnings\n",
        "from gensim.models.word2vec import Word2Vec\n",
        "warnings.simplefilter(action='ignore', category=FutureWarning)"
      ],
      "execution_count": 2,
      "outputs": []
    },
    {
      "cell_type": "code",
      "metadata": {
        "id": "Qzla3I56bc8J",
        "colab_type": "code",
        "colab": {
          "base_uri": "https://localhost:8080/",
          "height": 36
        },
        "outputId": "ed30adaf-574d-4906-f062-80cd33d0721d"
      },
      "source": [
        "from google.colab import drive\n",
        "drive.mount('/content/drive/' )"
      ],
      "execution_count": 3,
      "outputs": [
        {
          "output_type": "stream",
          "text": [
            "Drive already mounted at /content/drive/; to attempt to forcibly remount, call drive.mount(\"/content/drive/\", force_remount=True).\n"
          ],
          "name": "stdout"
        }
      ]
    },
    {
      "cell_type": "code",
      "metadata": {
        "id": "_1lj0r4Cbf_M",
        "colab_type": "code",
        "colab": {
          "base_uri": "https://localhost:8080/",
          "height": 36
        },
        "outputId": "8be01365-48b9-4ec4-d07c-598ff865bd36"
      },
      "source": [
        "os.chdir('/content/drive/My Drive/Colab Notebooks/kakaomelon')\n",
        "print('os.getcwd()=', os.getcwd())"
      ],
      "execution_count": 4,
      "outputs": [
        {
          "output_type": "stream",
          "text": [
            "os.getcwd()= /content/drive/My Drive/Colab Notebooks/kakaomelon\n"
          ],
          "name": "stdout"
        }
      ]
    },
    {
      "cell_type": "code",
      "metadata": {
        "id": "LCVOwUTbcHd9",
        "colab_type": "code",
        "colab": {}
      },
      "source": [
        "import json\n",
        "import numpy as np\n",
        "import pandas as pd\n",
        "\n",
        "from gensim.models import Word2Vec"
      ],
      "execution_count": 5,
      "outputs": []
    },
    {
      "cell_type": "code",
      "metadata": {
        "id": "7xowREUFcfWR",
        "colab_type": "code",
        "colab": {}
      },
      "source": [
        "# constant variables\n",
        "W2V_EMB_SIZE = 100\n",
        "W2V_WINDOW_SIZE = 5"
      ],
      "execution_count": 6,
      "outputs": []
    },
    {
      "cell_type": "code",
      "metadata": {
        "id": "_-Hm1NHtcj43",
        "colab_type": "code",
        "colab": {
          "base_uri": "https://localhost:8080/",
          "height": 285
        },
        "outputId": "f38f48fb-f256-474d-88f4-85ae70e9349a"
      },
      "source": [
        "train_playlist = pd.read_json('arena_data/train.json', encoding='utf-8')\n",
        "train_playlist.head()"
      ],
      "execution_count": 7,
      "outputs": [
        {
          "output_type": "execute_result",
          "data": {
            "text/html": [
              "<div>\n",
              "<style scoped>\n",
              "    .dataframe tbody tr th:only-of-type {\n",
              "        vertical-align: middle;\n",
              "    }\n",
              "\n",
              "    .dataframe tbody tr th {\n",
              "        vertical-align: top;\n",
              "    }\n",
              "\n",
              "    .dataframe thead th {\n",
              "        text-align: right;\n",
              "    }\n",
              "</style>\n",
              "<table border=\"1\" class=\"dataframe\">\n",
              "  <thead>\n",
              "    <tr style=\"text-align: right;\">\n",
              "      <th></th>\n",
              "      <th>tags</th>\n",
              "      <th>id</th>\n",
              "      <th>plylst_title</th>\n",
              "      <th>songs</th>\n",
              "      <th>like_cnt</th>\n",
              "      <th>updt_date</th>\n",
              "    </tr>\n",
              "  </thead>\n",
              "  <tbody>\n",
              "    <tr>\n",
              "      <th>0</th>\n",
              "      <td>[락]</td>\n",
              "      <td>61281</td>\n",
              "      <td>여행같은 음악</td>\n",
              "      <td>[525514, 129701, 383374, 562083, 297861, 13954...</td>\n",
              "      <td>71</td>\n",
              "      <td>2013-12-19 18:36:19.000</td>\n",
              "    </tr>\n",
              "    <tr>\n",
              "      <th>1</th>\n",
              "      <td>[추억, 회상]</td>\n",
              "      <td>10532</td>\n",
              "      <td>요즘 너 말야</td>\n",
              "      <td>[432406, 675945, 497066, 120377, 389529, 24427...</td>\n",
              "      <td>1</td>\n",
              "      <td>2014-12-02 16:19:42.000</td>\n",
              "    </tr>\n",
              "    <tr>\n",
              "      <th>2</th>\n",
              "      <td>[까페, 잔잔한]</td>\n",
              "      <td>76951</td>\n",
              "      <td>편하게, 잔잔하게 들을 수 있는 곡.-</td>\n",
              "      <td>[83116, 276692, 166267, 186301, 354465, 256598...</td>\n",
              "      <td>17</td>\n",
              "      <td>2017-08-28 07:09:34.000</td>\n",
              "    </tr>\n",
              "    <tr>\n",
              "      <th>3</th>\n",
              "      <td>[연말, 눈오는날, 캐럴, 분위기, 따듯한, 크리스마스캐럴, 겨울노래, 크리스마스,...</td>\n",
              "      <td>147456</td>\n",
              "      <td>크리스마스 분위기에 흠뻑 취하고 싶을때</td>\n",
              "      <td>[394031, 195524, 540149, 287984, 440773, 10033...</td>\n",
              "      <td>33</td>\n",
              "      <td>2019-12-05 15:15:18.000</td>\n",
              "    </tr>\n",
              "    <tr>\n",
              "      <th>4</th>\n",
              "      <td>[댄스]</td>\n",
              "      <td>27616</td>\n",
              "      <td>추억의 노래 ㅋ</td>\n",
              "      <td>[159327, 553610, 5130, 645103, 294435, 100657,...</td>\n",
              "      <td>9</td>\n",
              "      <td>2011-10-25 13:54:56.000</td>\n",
              "    </tr>\n",
              "  </tbody>\n",
              "</table>\n",
              "</div>"
            ],
            "text/plain": [
              "                                                tags  ...                updt_date\n",
              "0                                                [락]  ...  2013-12-19 18:36:19.000\n",
              "1                                           [추억, 회상]  ...  2014-12-02 16:19:42.000\n",
              "2                                          [까페, 잔잔한]  ...  2017-08-28 07:09:34.000\n",
              "3  [연말, 눈오는날, 캐럴, 분위기, 따듯한, 크리스마스캐럴, 겨울노래, 크리스마스,...  ...  2019-12-05 15:15:18.000\n",
              "4                                               [댄스]  ...  2011-10-25 13:54:56.000\n",
              "\n",
              "[5 rows x 6 columns]"
            ]
          },
          "metadata": {
            "tags": []
          },
          "execution_count": 7
        }
      ]
    },
    {
      "cell_type": "code",
      "metadata": {
        "id": "GzbdZq4AgHlb",
        "colab_type": "code",
        "colab": {
          "base_uri": "https://localhost:8080/",
          "height": 36
        },
        "outputId": "eb313370-0412-4ae9-e287-21c1afcd0e71"
      },
      "source": [
        "type(train_playlist.songs[0][1])"
      ],
      "execution_count": 8,
      "outputs": [
        {
          "output_type": "execute_result",
          "data": {
            "text/plain": [
              "int"
            ]
          },
          "metadata": {
            "tags": []
          },
          "execution_count": 8
        }
      ]
    },
    {
      "cell_type": "code",
      "metadata": {
        "id": "Gdpk9oZf1KTm",
        "colab_type": "code",
        "colab": {}
      },
      "source": [
        "#train_playlist=train_playlist.astype({'songs':str})"
      ],
      "execution_count": 9,
      "outputs": []
    },
    {
      "cell_type": "code",
      "metadata": {
        "id": "8PNREcgN6Aol",
        "colab_type": "code",
        "colab": {}
      },
      "source": [
        "#import re\n",
        "\n",
        "#def StrToList(doc):\n",
        "#    return [re.sub(\"[\\[\\]]\", \"\", re.sub(\"'\", \"\", t)).strip() for t in doc.split(',')]\n",
        "\n",
        "#def IntListToStrList(iList):\n",
        "#    return [str(t) for t in iList]"
      ],
      "execution_count": 10,
      "outputs": []
    },
    {
      "cell_type": "code",
      "metadata": {
        "id": "oWQNHNaW6FV_",
        "colab_type": "code",
        "colab": {}
      },
      "source": [
        "train_playlist['songs'] = train_playlist['songs'].apply(lambda x: [str(t) for t in x])\n",
        "#train_playlist['songs'] = train_playlist['songs'].apply(lambda x: IntListToStrList(x))\n",
        "#train_playlist['songs'] = train_playlist['songs'].apply(lambda x: StrToList(x))"
      ],
      "execution_count": 11,
      "outputs": []
    },
    {
      "cell_type": "code",
      "metadata": {
        "id": "ouyDjRZ29iMm",
        "colab_type": "code",
        "colab": {
          "base_uri": "https://localhost:8080/",
          "height": 370
        },
        "outputId": "9febc08d-98ba-454b-9aaa-de4c07acdc26"
      },
      "source": [
        "train_playlist.songs[0]"
      ],
      "execution_count": 12,
      "outputs": [
        {
          "output_type": "execute_result",
          "data": {
            "text/plain": [
              "['525514',\n",
              " '129701',\n",
              " '383374',\n",
              " '562083',\n",
              " '297861',\n",
              " '139541',\n",
              " '351214',\n",
              " '650298',\n",
              " '531057',\n",
              " '205238',\n",
              " '706183',\n",
              " '127099',\n",
              " '660493',\n",
              " '461973',\n",
              " '121455',\n",
              " '72552',\n",
              " '223955',\n",
              " '324992',\n",
              " '50104']"
            ]
          },
          "metadata": {
            "tags": []
          },
          "execution_count": 12
        }
      ]
    },
    {
      "cell_type": "code",
      "metadata": {
        "id": "xHTCMgGsg_an",
        "colab_type": "code",
        "colab": {
          "base_uri": "https://localhost:8080/",
          "height": 54
        },
        "outputId": "e246fb88-8269-4dec-f000-d1aefdf14610"
      },
      "source": [
        "# sg 0: CBOW, 1: Skip-gram\n",
        "%%time\n",
        "word2vec_model = Word2Vec(train_playlist.songs, min_count=1, size=256, window=10, sg=0, negative=20,workers = 4)"
      ],
      "execution_count": 13,
      "outputs": [
        {
          "output_type": "stream",
          "text": [
            "CPU times: user 8min 59s, sys: 1.71 s, total: 9min 1s\n",
            "Wall time: 5min 33s\n"
          ],
          "name": "stdout"
        }
      ]
    },
    {
      "cell_type": "code",
      "metadata": {
        "id": "m2cq-ncp5TWj",
        "colab_type": "code",
        "colab": {}
      },
      "source": [
        "#word2vec_model.wv.index2word"
      ],
      "execution_count": 168,
      "outputs": []
    },
    {
      "cell_type": "code",
      "metadata": {
        "id": "VuA_3ywdA7hP",
        "colab_type": "code",
        "colab": {
          "base_uri": "https://localhost:8080/",
          "height": 258
        },
        "outputId": "5ad2d2c4-8abd-406e-9bcc-3681313c1282"
      },
      "source": [
        "print(word2vec_model.wv.vectors) "
      ],
      "execution_count": 14,
      "outputs": [
        {
          "output_type": "stream",
          "text": [
            "[[ 1.12724555e+00  1.01921886e-01 -8.15591309e-03 ...  1.33016515e+00\n",
            "   4.23856676e-01 -8.61405283e-02]\n",
            " [ 1.58063745e+00  1.18600500e+00 -1.43095821e-01 ... -2.33728029e-02\n",
            "   1.37843227e+00 -1.05128646e+00]\n",
            " [ 2.00206113e+00  4.12557125e-01  1.27452397e+00 ...  4.91161942e-01\n",
            "   6.51732981e-01 -8.66872191e-01]\n",
            " ...\n",
            " [-2.06091721e-02 -7.75201153e-03 -5.07997070e-03 ...  1.80961210e-02\n",
            "  -2.95053539e-03  2.69130280e-04]\n",
            " [-1.70736983e-02  7.34890718e-03  1.38089377e-02 ...  1.04850456e-02\n",
            "   8.03813059e-03 -3.96782020e-03]\n",
            " [-9.81243234e-03  1.88125717e-03  2.57709558e-04 ... -3.92415049e-03\n",
            "   8.90501309e-03 -1.16502987e-02]]\n"
          ],
          "name": "stdout"
        }
      ]
    },
    {
      "cell_type": "code",
      "metadata": {
        "id": "O94_yLHqBDcQ",
        "colab_type": "code",
        "colab": {
          "base_uri": "https://localhost:8080/",
          "height": 834
        },
        "outputId": "bd1c9eef-d095-41dc-97b1-491e5e6fe816"
      },
      "source": [
        "print(word2vec_model.wv.get_vector('525514'))\n",
        "print(word2vec_model.wv.get_vector('525514').shape)"
      ],
      "execution_count": 15,
      "outputs": [
        {
          "output_type": "stream",
          "text": [
            "[-0.18795043 -0.01871267  0.09113895  0.13469233  0.21731563  0.04645496\n",
            "  0.19163503  0.23449907  0.15645447 -0.10169861  0.07132874 -0.02251449\n",
            "  0.23179752 -0.06696907  0.35974202 -0.05582883 -0.07505488 -0.16790494\n",
            "  0.3537007   0.04513412  0.10862566  0.14431974  0.09232384  0.1362093\n",
            "  0.20799987  0.24736243 -0.31521204  0.11566889 -0.29896253  0.28601158\n",
            "  0.13627821  0.19444135  0.0927169  -0.46110302  0.19597287  0.03189083\n",
            "  0.6021195  -0.05072159 -0.08967005  0.13755949 -0.2312854   0.09268978\n",
            "  0.08198126  0.27774322  0.15581922  0.07334837  0.17385316 -0.03025653\n",
            " -0.15901917  0.07940677 -0.05654787  0.16116181 -0.17523222  0.04906303\n",
            "  0.0851937  -0.15623781 -0.09999459  0.08281844 -0.12947825  0.06440575\n",
            "  0.31301886  0.03791527 -0.2904202  -0.01820523  0.29638383 -0.3254777\n",
            " -0.0451541  -0.07319589  0.00204112  0.34374848 -0.11768087 -0.22546846\n",
            " -0.06246416 -0.22678763  0.3897587  -0.05472059  0.12765439 -0.2372037\n",
            " -0.22200327 -0.3612508  -0.09431472  0.06183242 -0.00551924 -0.15942422\n",
            " -0.24281245  0.17062388 -0.12994936  0.06196201  0.06168585  0.03659409\n",
            "  0.08520149  0.21313132 -0.2409574  -0.23907167 -0.11837479  0.12201037\n",
            "  0.08364839 -0.08244056 -0.5470283   0.2495753  -0.23695178 -0.26845044\n",
            " -0.09462169 -0.00081952  0.3235367  -0.04498597 -0.16196413 -0.00144223\n",
            "  0.0282958  -0.15632749  0.4494917  -0.21529745 -0.08299224 -0.16597676\n",
            "  0.19468062 -0.11986716  0.13137054 -0.3464645  -0.04996071 -0.13932186\n",
            " -0.02301054 -0.11892788  0.32137868 -0.12195526 -0.14864297  0.25437453\n",
            " -0.09661843  0.14374809  0.06903396  0.37056297 -0.22356206 -0.00562833\n",
            " -0.11102889 -0.14044353  0.04838215  0.0023429   0.16875258  0.11140892\n",
            " -0.04615815  0.01168464 -0.4794863  -0.05100626 -0.17146872  0.25342786\n",
            " -0.3144424   0.40706605 -0.03844365  0.13445237 -0.08534539 -0.11138097\n",
            "  0.24216573  0.03449183  0.02278187  0.03650132  0.12352455  0.03507616\n",
            "  0.10843366 -0.16347305 -0.17633581  0.4506558   0.27489254 -0.05876108\n",
            " -0.01374773  0.08951154 -0.08385881 -0.02002314 -0.14659622 -0.05199234\n",
            " -0.17494695 -0.00988487 -0.16085933  0.18710233 -0.03360746 -0.23677358\n",
            " -0.25755098 -0.20020552 -0.05247279  0.057994    0.22691908  0.23940177\n",
            " -0.03151964 -0.04825461 -0.02619204  0.3679683   0.08639693  0.14081205\n",
            " -0.06868871 -0.02589557 -0.11289207 -0.00193237 -0.01751769  0.01198916\n",
            "  0.31658307 -0.49468243 -0.20328394  0.15502298  0.13196443  0.093533\n",
            " -0.13543946  0.06692556 -0.2933404   0.25665107  0.370714   -0.01474988\n",
            "  0.1779456   0.01355468 -0.02829875 -0.42601055  0.1508153   0.00616662\n",
            " -0.05944747  0.35343015  0.16865803  0.11513551  0.10265537 -0.4000696\n",
            "  0.18286884 -0.01884672 -0.27465522  0.15396331  0.34739342 -0.10075483\n",
            " -0.00510987 -0.02278014 -0.05368679 -0.4716999   0.0376894  -0.01748666\n",
            "  0.14805813 -0.44324622  0.24224949  0.00690006 -0.16134012 -0.46957037\n",
            "  0.0817482  -0.14740288  0.06237857 -0.21691972  0.22822288  0.14063656\n",
            " -0.18804756  0.2552454  -0.00084535 -0.21235855 -0.02558831 -0.0714868\n",
            "  0.10355512 -0.15701072 -0.42537537 -0.22250128 -0.16455106  0.08160147\n",
            " -0.08405178  0.03004703  0.12991206 -0.21987079]\n",
            "(256,)\n"
          ],
          "name": "stdout"
        }
      ]
    },
    {
      "cell_type": "code",
      "metadata": {
        "id": "Db25mqnthUWv",
        "colab_type": "code",
        "colab": {
          "base_uri": "https://localhost:8080/",
          "height": 260
        },
        "outputId": "c41816e8-c178-4eaf-ccd0-50eccde45917"
      },
      "source": [
        "word2vec_model.most_similar('525514')"
      ],
      "execution_count": 220,
      "outputs": [
        {
          "output_type": "stream",
          "text": [
            "/usr/local/lib/python3.6/dist-packages/ipykernel_launcher.py:1: DeprecationWarning: Call to deprecated `most_similar` (Method will be removed in 4.0.0, use self.wv.most_similar() instead).\n",
            "  \"\"\"Entry point for launching an IPython kernel.\n"
          ],
          "name": "stderr"
        },
        {
          "output_type": "execute_result",
          "data": {
            "text/plain": [
              "[('695342', 0.9881758093833923),\n",
              " ('412566', 0.9861711263656616),\n",
              " ('658448', 0.9852316379547119),\n",
              " ('569182', 0.9851484298706055),\n",
              " ('461973', 0.9846417903900146),\n",
              " ('696619', 0.9842624664306641),\n",
              " ('250615', 0.9834495782852173),\n",
              " ('65814', 0.9829264879226685),\n",
              " ('552048', 0.9825711250305176),\n",
              " ('70323', 0.9825194478034973)]"
            ]
          },
          "metadata": {
            "tags": []
          },
          "execution_count": 220
        }
      ]
    },
    {
      "cell_type": "code",
      "metadata": {
        "id": "q5tJ6t3CE7X8",
        "colab_type": "code",
        "colab": {}
      },
      "source": [
        "song_meta = pd.read_json('arena_data/song_meta.json', encoding='utf-8')"
      ],
      "execution_count": 17,
      "outputs": []
    },
    {
      "cell_type": "code",
      "metadata": {
        "id": "hU_1uZIPEtot",
        "colab_type": "code",
        "colab": {
          "base_uri": "https://localhost:8080/",
          "height": 78
        },
        "outputId": "f3172596-5922-4c35-8364-d9d65d1ff204"
      },
      "source": [
        "query_id ='83116'\n",
        "song_meta[song_meta.index == int(query_id)]"
      ],
      "execution_count": 18,
      "outputs": [
        {
          "output_type": "execute_result",
          "data": {
            "text/html": [
              "<div>\n",
              "<style scoped>\n",
              "    .dataframe tbody tr th:only-of-type {\n",
              "        vertical-align: middle;\n",
              "    }\n",
              "\n",
              "    .dataframe tbody tr th {\n",
              "        vertical-align: top;\n",
              "    }\n",
              "\n",
              "    .dataframe thead th {\n",
              "        text-align: right;\n",
              "    }\n",
              "</style>\n",
              "<table border=\"1\" class=\"dataframe\">\n",
              "  <thead>\n",
              "    <tr style=\"text-align: right;\">\n",
              "      <th></th>\n",
              "      <th>song_gn_dtl_gnr_basket</th>\n",
              "      <th>issue_date</th>\n",
              "      <th>album_name</th>\n",
              "      <th>album_id</th>\n",
              "      <th>artist_id_basket</th>\n",
              "      <th>song_name</th>\n",
              "      <th>song_gn_gnr_basket</th>\n",
              "      <th>artist_name_basket</th>\n",
              "      <th>id</th>\n",
              "    </tr>\n",
              "  </thead>\n",
              "  <tbody>\n",
              "    <tr>\n",
              "      <th>83116</th>\n",
              "      <td>[GN0401, GN0403]</td>\n",
              "      <td>20081029</td>\n",
              "      <td>Soul Light</td>\n",
              "      <td>464152</td>\n",
              "      <td>[262975]</td>\n",
              "      <td>도시의 밤</td>\n",
              "      <td>[GN0400]</td>\n",
              "      <td>[소울라이츠]</td>\n",
              "      <td>83116</td>\n",
              "    </tr>\n",
              "  </tbody>\n",
              "</table>\n",
              "</div>"
            ],
            "text/plain": [
              "      song_gn_dtl_gnr_basket  issue_date  ... artist_name_basket     id\n",
              "83116       [GN0401, GN0403]    20081029  ...            [소울라이츠]  83116\n",
              "\n",
              "[1 rows x 9 columns]"
            ]
          },
          "metadata": {
            "tags": []
          },
          "execution_count": 18
        }
      ]
    },
    {
      "cell_type": "code",
      "metadata": {
        "id": "t_1zJ4Dz5Cqx",
        "colab_type": "code",
        "colab": {
          "base_uri": "https://localhost:8080/",
          "height": 521
        },
        "outputId": "b646ddf6-aa2b-41cb-f9a2-05c16ddd81fe"
      },
      "source": [
        "similar_ids = [int(song_id) for song_id, prob in word2vec_model.wv.most_similar(query_id)]\n",
        "song_meta.loc[similar_ids]"
      ],
      "execution_count": 19,
      "outputs": [
        {
          "output_type": "execute_result",
          "data": {
            "text/html": [
              "<div>\n",
              "<style scoped>\n",
              "    .dataframe tbody tr th:only-of-type {\n",
              "        vertical-align: middle;\n",
              "    }\n",
              "\n",
              "    .dataframe tbody tr th {\n",
              "        vertical-align: top;\n",
              "    }\n",
              "\n",
              "    .dataframe thead th {\n",
              "        text-align: right;\n",
              "    }\n",
              "</style>\n",
              "<table border=\"1\" class=\"dataframe\">\n",
              "  <thead>\n",
              "    <tr style=\"text-align: right;\">\n",
              "      <th></th>\n",
              "      <th>song_gn_dtl_gnr_basket</th>\n",
              "      <th>issue_date</th>\n",
              "      <th>album_name</th>\n",
              "      <th>album_id</th>\n",
              "      <th>artist_id_basket</th>\n",
              "      <th>song_name</th>\n",
              "      <th>song_gn_gnr_basket</th>\n",
              "      <th>artist_name_basket</th>\n",
              "      <th>id</th>\n",
              "    </tr>\n",
              "  </thead>\n",
              "  <tbody>\n",
              "    <tr>\n",
              "      <th>276692</th>\n",
              "      <td>[GN0401, GN0403]</td>\n",
              "      <td>20081029</td>\n",
              "      <td>Soul Light</td>\n",
              "      <td>464152</td>\n",
              "      <td>[262975]</td>\n",
              "      <td>I`m Alright</td>\n",
              "      <td>[GN0400]</td>\n",
              "      <td>[소울라이츠]</td>\n",
              "      <td>276692</td>\n",
              "    </tr>\n",
              "    <tr>\n",
              "      <th>4465</th>\n",
              "      <td>[GN0601, GN0605]</td>\n",
              "      <td>20080923</td>\n",
              "      <td>Hardboiled</td>\n",
              "      <td>398062</td>\n",
              "      <td>[221837]</td>\n",
              "      <td>Stardust</td>\n",
              "      <td>[GN0600]</td>\n",
              "      <td>[W&amp;Whale]</td>\n",
              "      <td>4465</td>\n",
              "    </tr>\n",
              "    <tr>\n",
              "      <th>436937</th>\n",
              "      <td>[GN0401, GN0403]</td>\n",
              "      <td>20081212</td>\n",
              "      <td>Realcollabo</td>\n",
              "      <td>440251</td>\n",
              "      <td>[8876]</td>\n",
              "      <td>떠난 내 님은</td>\n",
              "      <td>[GN0400]</td>\n",
              "      <td>[라디 (Ra. D)]</td>\n",
              "      <td>436937</td>\n",
              "    </tr>\n",
              "    <tr>\n",
              "      <th>83414</th>\n",
              "      <td>[GN0401, GN0403]</td>\n",
              "      <td>20090715</td>\n",
              "      <td>RealCollabo + RMX</td>\n",
              "      <td>607856</td>\n",
              "      <td>[8876]</td>\n",
              "      <td>난 네게 (Acoustik RMX) (Feat. Inbar)</td>\n",
              "      <td>[GN0400]</td>\n",
              "      <td>[라디 (Ra. D)]</td>\n",
              "      <td>83414</td>\n",
              "    </tr>\n",
              "    <tr>\n",
              "      <th>166780</th>\n",
              "      <td>[GN0401, GN0403]</td>\n",
              "      <td>20090702</td>\n",
              "      <td>커피를 마시고</td>\n",
              "      <td>599353</td>\n",
              "      <td>[420527]</td>\n",
              "      <td>Inevitability</td>\n",
              "      <td>[GN0400]</td>\n",
              "      <td>[어반자카파]</td>\n",
              "      <td>166780</td>\n",
              "    </tr>\n",
              "    <tr>\n",
              "      <th>513632</th>\n",
              "      <td>[GN0401, GN0403]</td>\n",
              "      <td>20090715</td>\n",
              "      <td>RealCollabo + RMX</td>\n",
              "      <td>607856</td>\n",
              "      <td>[8876]</td>\n",
              "      <td>Goodbye (Original Mix)</td>\n",
              "      <td>[GN0400]</td>\n",
              "      <td>[라디 (Ra. D)]</td>\n",
              "      <td>513632</td>\n",
              "    </tr>\n",
              "    <tr>\n",
              "      <th>2288</th>\n",
              "      <td>[GN2601, GN0508, GN2603, GN0504, GN0501]</td>\n",
              "      <td>20081218</td>\n",
              "      <td>Polyester Heart</td>\n",
              "      <td>447455</td>\n",
              "      <td>[32221]</td>\n",
              "      <td>아무도 모른다</td>\n",
              "      <td>[GN0500, GN2600]</td>\n",
              "      <td>[캐스커]</td>\n",
              "      <td>2288</td>\n",
              "    </tr>\n",
              "    <tr>\n",
              "      <th>478504</th>\n",
              "      <td>[GN1701, GN1704]</td>\n",
              "      <td>20090528</td>\n",
              "      <td>흠</td>\n",
              "      <td>587051</td>\n",
              "      <td>[418100]</td>\n",
              "      <td>JJ</td>\n",
              "      <td>[GN1700]</td>\n",
              "      <td>[흠]</td>\n",
              "      <td>478504</td>\n",
              "    </tr>\n",
              "    <tr>\n",
              "      <th>369410</th>\n",
              "      <td>[GN0101]</td>\n",
              "      <td>20090423</td>\n",
              "      <td>꽃, 다시 첫 번째</td>\n",
              "      <td>546851</td>\n",
              "      <td>[1121]</td>\n",
              "      <td>4월16일</td>\n",
              "      <td>[GN0100]</td>\n",
              "      <td>[박지윤]</td>\n",
              "      <td>369410</td>\n",
              "    </tr>\n",
              "    <tr>\n",
              "      <th>208004</th>\n",
              "      <td>[GN0401, GN0403]</td>\n",
              "      <td>20090909</td>\n",
              "      <td>힘을 내줘</td>\n",
              "      <td>657651</td>\n",
              "      <td>[413620]</td>\n",
              "      <td>힘을 내줘 (Feat. Amy Boat)</td>\n",
              "      <td>[GN0400]</td>\n",
              "      <td>[옐로우 페인트]</td>\n",
              "      <td>208004</td>\n",
              "    </tr>\n",
              "  </tbody>\n",
              "</table>\n",
              "</div>"
            ],
            "text/plain": [
              "                          song_gn_dtl_gnr_basket  ...      id\n",
              "276692                          [GN0401, GN0403]  ...  276692\n",
              "4465                            [GN0601, GN0605]  ...    4465\n",
              "436937                          [GN0401, GN0403]  ...  436937\n",
              "83414                           [GN0401, GN0403]  ...   83414\n",
              "166780                          [GN0401, GN0403]  ...  166780\n",
              "513632                          [GN0401, GN0403]  ...  513632\n",
              "2288    [GN2601, GN0508, GN2603, GN0504, GN0501]  ...    2288\n",
              "478504                          [GN1701, GN1704]  ...  478504\n",
              "369410                                  [GN0101]  ...  369410\n",
              "208004                          [GN0401, GN0403]  ...  208004\n",
              "\n",
              "[10 rows x 9 columns]"
            ]
          },
          "metadata": {
            "tags": []
          },
          "execution_count": 19
        }
      ]
    },
    {
      "cell_type": "code",
      "metadata": {
        "id": "i5EuQjo_FDxu",
        "colab_type": "code",
        "colab": {
          "base_uri": "https://localhost:8080/",
          "height": 93
        },
        "outputId": "6bf1a611-d3ab-4cfd-9948-6d4c73669d91"
      },
      "source": [
        "word2vec_model.save('song2vec.h5')\n",
        "print(word2vec_model)"
      ],
      "execution_count": 20,
      "outputs": [
        {
          "output_type": "stream",
          "text": [
            "/usr/local/lib/python3.6/dist-packages/smart_open/smart_open_lib.py:253: UserWarning: This function is deprecated, use smart_open.open instead. See the migration notes for details: https://github.com/RaRe-Technologies/smart_open/blob/master/README.rst#migrating-to-the-new-open-function\n",
            "  'See the migration notes for details: %s' % _MIGRATION_NOTES_URL\n"
          ],
          "name": "stderr"
        },
        {
          "output_type": "stream",
          "text": [
            "Word2Vec(vocab=615142, size=256, alpha=0.025)\n"
          ],
          "name": "stdout"
        }
      ]
    },
    {
      "cell_type": "code",
      "metadata": {
        "id": "SYvCKBSbcg7x",
        "colab_type": "code",
        "colab": {}
      },
      "source": [
        "from gensim.models import Word2Vec"
      ],
      "execution_count": 211,
      "outputs": []
    },
    {
      "cell_type": "code",
      "metadata": {
        "id": "2ePq2saMV6GO",
        "colab_type": "code",
        "colab": {
          "base_uri": "https://localhost:8080/",
          "height": 74
        },
        "outputId": "81a7dfb0-9694-4469-f6f9-2e638d171e08"
      },
      "source": [
        "model =  Word2Vec.load('song2vec.h5')"
      ],
      "execution_count": 212,
      "outputs": [
        {
          "output_type": "stream",
          "text": [
            "/usr/local/lib/python3.6/dist-packages/smart_open/smart_open_lib.py:253: UserWarning: This function is deprecated, use smart_open.open instead. See the migration notes for details: https://github.com/RaRe-Technologies/smart_open/blob/master/README.rst#migrating-to-the-new-open-function\n",
            "  'See the migration notes for details: %s' % _MIGRATION_NOTES_URL\n"
          ],
          "name": "stderr"
        }
      ]
    },
    {
      "cell_type": "code",
      "metadata": {
        "id": "aClD4k3qac0F",
        "colab_type": "code",
        "colab": {}
      },
      "source": [
        "def meanVectors(playlist):\n",
        "    global vec\n",
        "    vec =[]\n",
        "    for song_id in playlist:\n",
        "        try:\n",
        "            vec.append(model.wv[song_id])\n",
        "        except KeyError:\n",
        "            continue\n",
        "    return np.mean(vec, axis=0)"
      ],
      "execution_count": 213,
      "outputs": []
    },
    {
      "cell_type": "code",
      "metadata": {
        "id": "qlChdxu0dYqF",
        "colab_type": "code",
        "colab": {}
      },
      "source": [
        "pl_vec = meanVectors(train_playlist.songs[0])"
      ],
      "execution_count": 214,
      "outputs": []
    },
    {
      "cell_type": "code",
      "metadata": {
        "id": "CD953GKkg0fO",
        "colab_type": "code",
        "colab": {}
      },
      "source": [
        "def similarSongsByVector(vec, n = 10, by_name = True):\n",
        "    # extract most similar songs for the input vector\n",
        "    similar_songs = model.wv.similar_by_vector(vec, topn = n)\n",
        "    \n",
        "    # extract name and similarity score of the similar products\n",
        "    if by_name:\n",
        "        similar_songs = [(song_meta.loc[int(song_id), \"song_name\"], sim) \n",
        "                              for song_id, sim in similar_songs]\n",
        "    \n",
        "    return similar_songs"
      ],
      "execution_count": 215,
      "outputs": []
    },
    {
      "cell_type": "code",
      "metadata": {
        "id": "hmKhV19NhFWq",
        "colab_type": "code",
        "colab": {}
      },
      "source": [
        "recom_songs = similarSongsByVector(pl_vec, n=10)"
      ],
      "execution_count": 216,
      "outputs": []
    },
    {
      "cell_type": "code",
      "metadata": {
        "id": "_PhiqObSjnkJ",
        "colab_type": "code",
        "colab": {
          "base_uri": "https://localhost:8080/",
          "height": 203
        },
        "outputId": "b5f515b0-dde5-4dad-fff0-1d310a490a89"
      },
      "source": [
        "recom_songs"
      ],
      "execution_count": 217,
      "outputs": [
        {
          "output_type": "execute_result",
          "data": {
            "text/plain": [
              "[('Stand Up', 0.9943873286247253),\n",
              " ('Angel', 0.9940143823623657),\n",
              " ('When You`re Young (Acoustic)', 0.9933663606643677),\n",
              " ('A Traveler', 0.9930209517478943),\n",
              " ('The Sun The Trees', 0.992952823638916),\n",
              " ('Loving You Is Killing Me', 0.9925976395606995),\n",
              " ('Teardrops On My Guitar (Radio Single Remix)', 0.9921250343322754),\n",
              " ('The Dynamo Of Volition', 0.9919434785842896),\n",
              " ('Green Eyes', 0.9918468594551086),\n",
              " ('Help Somebody', 0.9914613962173462)]"
            ]
          },
          "metadata": {
            "tags": []
          },
          "execution_count": 217
        }
      ]
    },
    {
      "cell_type": "code",
      "metadata": {
        "id": "TSD7B7y3ugUD",
        "colab_type": "code",
        "colab": {
          "base_uri": "https://localhost:8080/",
          "height": 388
        },
        "outputId": "355d9f0a-ffb3-423e-f50d-747cf8feeb8d"
      },
      "source": [
        "song_ids = [int(song_id) for song_id in train_playlist.songs[0]]  # 총 19개. 525514, 129701, 383374, 562083, 297861, 13954...\t\n",
        "song_meta.loc[song_ids].song_name"
      ],
      "execution_count": 218,
      "outputs": [
        {
          "output_type": "execute_result",
          "data": {
            "text/plain": [
              "525514                       Hey Little Girl\n",
              "129701                               Octagon\n",
              "383374                              The Road\n",
              "562083                             Honeymoon\n",
              "297861                                  High\n",
              "139541                         Run, Run, Run\n",
              "351214                            Won`t Stop\n",
              "650298      Paris Nights / New York Mornings\n",
              "531057                           Count On Me\n",
              "205238                Dingue, Dingue, Dingue\n",
              "706183    December Sky (Feat. Julian Lennon)\n",
              "127099                               Balloon\n",
              "660493                  Tombe Sous Le Charme\n",
              "461973                             Aeroplane\n",
              "121455                               Head On\n",
              "72552                             No Ceiling\n",
              "223955                               Hanalei\n",
              "324992                             If We Try\n",
              "50104                          Higher (Free)\n",
              "Name: song_name, dtype: object"
            ]
          },
          "metadata": {
            "tags": []
          },
          "execution_count": 218
        }
      ]
    },
    {
      "cell_type": "code",
      "metadata": {
        "id": "S_wOA24fvzcq",
        "colab_type": "code",
        "colab": {
          "base_uri": "https://localhost:8080/",
          "height": 945
        },
        "outputId": "43a29909-bfdb-4081-b969-b2d3fb44da68"
      },
      "source": [
        "pl_vec = meanVectors(train_playlist.songs[0])\n",
        "recom_songs = similarSongsByVector(pl_vec, n=50)\n",
        "recom_songs"
      ],
      "execution_count": 219,
      "outputs": [
        {
          "output_type": "execute_result",
          "data": {
            "text/plain": [
              "[('Stand Up', 0.9943873286247253),\n",
              " ('Angel', 0.9940143823623657),\n",
              " ('When You`re Young (Acoustic)', 0.9933663606643677),\n",
              " ('A Traveler', 0.9930209517478943),\n",
              " ('The Sun The Trees', 0.992952823638916),\n",
              " ('Loving You Is Killing Me', 0.9925976395606995),\n",
              " ('Teardrops On My Guitar (Radio Single Remix)', 0.9921250343322754),\n",
              " ('The Dynamo Of Volition', 0.9919434785842896),\n",
              " ('Green Eyes', 0.9918468594551086),\n",
              " ('Help Somebody', 0.9914613962173462),\n",
              " ('Just Imagine', 0.9912992119789124),\n",
              " ('Superman (It`s Not Easy)', 0.9911367297172546),\n",
              " ('Somebody That I Used To Know', 0.9910218715667725),\n",
              " ('I`m With You', 0.9909887313842773),\n",
              " ('These Streets', 0.9908531904220581),\n",
              " ('Drama Queen', 0.9908215999603271),\n",
              " ('Shine', 0.9906861782073975),\n",
              " ('Imagine', 0.9905872344970703),\n",
              " ('AKA...Broken Arrow (Album Version)', 0.990467369556427),\n",
              " ('Simply Amazing', 0.9901955127716064),\n",
              " ('Hello Mr. Sun', 0.9901599884033203),\n",
              " ('Invisible (Album Version)', 0.9900824427604675),\n",
              " ('Never Never Land', 0.9898839592933655),\n",
              " ('Heartbreaker', 0.9898427724838257),\n",
              " ('Wish You Were Here', 0.989808976650238),\n",
              " ('Baby Baby Baby', 0.9897819757461548),\n",
              " ('Our First Time', 0.9896636605262756),\n",
              " ('Let It Fall', 0.9891049265861511),\n",
              " ('Ooh Baby Baby', 0.9891025424003601),\n",
              " ('So In Love (Feat. Anthony Hamilton)', 0.9890758395195007),\n",
              " ('Many the Miles', 0.9889850616455078),\n",
              " ('Outside (Pt. 1)', 0.9889611601829529),\n",
              " ('Co-Sign', 0.9889426231384277),\n",
              " ('Gentleman', 0.9888571500778198),\n",
              " ('Let Me Love You (Acoustic)', 0.9888421893119812),\n",
              " ('Dirty Paws', 0.9888205528259277),\n",
              " ('Say Anything', 0.988810122013092),\n",
              " ('A Thousand Miles (Album Version)', 0.9887866377830505),\n",
              " ('Have A Nice Day', 0.9887580871582031),\n",
              " ('When I First Saw You', 0.9886314272880554),\n",
              " ('Dreamin`', 0.9886010885238647),\n",
              " ('Everytime', 0.9885772466659546),\n",
              " ('Foolish Heart', 0.9883682727813721),\n",
              " ('Waiting For The Miracle', 0.9883543252944946),\n",
              " ('Window Seat', 0.9883389472961426),\n",
              " ('The Chain', 0.9882397651672363),\n",
              " ('The Only Exception', 0.9882069826126099),\n",
              " ('Each Day Gets Better', 0.9881868362426758),\n",
              " ('Forgiveness', 0.9881631731987),\n",
              " ('I Never Wear White', 0.9881216287612915)]"
            ]
          },
          "metadata": {
            "tags": []
          },
          "execution_count": 219
        }
      ]
    },
    {
      "cell_type": "code",
      "metadata": {
        "id": "qCwlW_H8zQak",
        "colab_type": "code",
        "colab": {}
      },
      "source": [
        ""
      ],
      "execution_count": null,
      "outputs": []
    }
  ]
}